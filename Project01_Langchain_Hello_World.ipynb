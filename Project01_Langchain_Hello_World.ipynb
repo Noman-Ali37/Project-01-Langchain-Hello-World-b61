{
  "nbformat": 4,
  "nbformat_minor": 0,
  "metadata": {
    "colab": {
      "provenance": [],
      "authorship_tag": "ABX9TyPrOMNLDr5z4tJAdzdPNX5E",
      "include_colab_link": true
    },
    "kernelspec": {
      "name": "python3",
      "display_name": "Python 3"
    },
    "language_info": {
      "name": "python"
    }
  },
  "cells": [
    {
      "cell_type": "markdown",
      "metadata": {
        "id": "view-in-github",
        "colab_type": "text"
      },
      "source": [
        "<a href=\"https://colab.research.google.com/github/Noman-Ali37/Project-01-Langchain-Hello-World-b61/blob/main/Project01_Langchain_Hello_World.ipynb\" target=\"_parent\"><img src=\"https://colab.research.google.com/assets/colab-badge.svg\" alt=\"Open In Colab\"/></a>"
      ]
    },
    {
      "cell_type": "code",
      "execution_count": 1,
      "metadata": {
        "colab": {
          "base_uri": "https://localhost:8080/"
        },
        "id": "cePUDClurlPd",
        "outputId": "ea941a1e-9218-41f8-fd5c-c6fafc41db56"
      },
      "outputs": [
        {
          "output_type": "stream",
          "name": "stdout",
          "text": [
            "\u001b[?25l   \u001b[90m━━━━━━━━━━━━━━━━━━━━━━━━━━━━━━━━━━━━━━━━\u001b[0m \u001b[32m0.0/41.3 kB\u001b[0m \u001b[31m?\u001b[0m eta \u001b[36m-:--:--\u001b[0m\r\u001b[2K   \u001b[90m━━━━━━━━━━━━━━━━━━━━━━━━━━━━━━━━━━━━━━━━\u001b[0m \u001b[32m41.3/41.3 kB\u001b[0m \u001b[31m2.8 MB/s\u001b[0m eta \u001b[36m0:00:00\u001b[0m\n",
            "\u001b[?25h"
          ]
        },
        {
          "output_type": "stream",
          "name": "stderr",
          "text": [
            "<ipython-input-1-6b08dc2af444>:21: LangChainDeprecationWarning: The class `LLMChain` was deprecated in LangChain 0.1.17 and will be removed in 1.0. Use :meth:`~RunnableSequence, e.g., `prompt | llm`` instead.\n",
            "  chain = LLMChain(llm=llm, prompt=prompt_template)\n",
            "<ipython-input-1-6b08dc2af444>:24: LangChainDeprecationWarning: The method `Chain.run` was deprecated in langchain 0.1.0 and will be removed in 1.0. Use :meth:`~invoke` instead.\n",
            "  response = chain.run({\"question\": question})\n"
          ]
        },
        {
          "output_type": "stream",
          "name": "stdout",
          "text": [
            "Answer: Okay, let's talk about building a solid chest workout schedule!  It's important to remember that **consistency and proper form are key** for seeing results and avoiding injury.  Also, everyone is a little different, so we'll break this down into some general guidelines, and you can adjust based on your experience and fitness level.\n",
            "\n",
            "Here's a sample chest exercise schedule you can adapt:\n",
            "\n",
            "**Important Considerations Before We Start:**\n",
            "\n",
            "*   **Warm-up:** Always start with 5-10 minutes of light cardio (like jogging or jumping jacks) and dynamic stretching (arm circles, torso twists, chest stretches) before your workout. This prepares your muscles and joints.\n",
            "*   **Cool-down:** Finish each workout with 5-10 minutes of static stretching (holding each stretch for 20-30 seconds), focusing on your chest, shoulders, and triceps. This helps with flexibility and recovery.\n",
            "*   **Listen to Your Body:** If you feel pain, stop the exercise and rest. Don't push through pain.\n",
            "*   **Progressive Overload:** As you get stronger, gradually increase the weight, reps, sets, or difficulty of the exercise. This challenges your muscles and encourages growth.\n",
            "*   **Nutrition and Rest:** Remember that good nutrition and sufficient rest (7-9 hours of sleep) are just as important as working out. Muscles grow during rest.\n",
            "*   **Proper Form Over Weight:** Focus on maintaining proper form through the full range of motion. Don't use weight that makes your form break down. It's better to lift lighter with good form than to lift heavy with bad form.\n",
            "\n",
            "**Beginner (1-3 Months Experience)**\n",
            "\n",
            "*   **Frequency:** 2 times per week, with at least one day of rest between sessions.\n",
            "*   **Exercises:** Choose 3-4 exercises per workout.\n",
            "*   **Sets & Reps:** 2-3 sets of 8-12 reps per exercise.\n",
            "*   **Rest:** 60-90 seconds rest between sets.\n",
            "\n",
            "    **Sample Beginner Chest Workout:**\n",
            "    *   **Incline Dumbbell Press:** Targets the upper chest.\n",
            "    *   **Flat Dumbbell Press:** Targets the mid-chest.\n",
            "    *   **Push-ups (on knees if needed):** A great bodyweight exercise.\n",
            "    *   **Dumbbell Flyes:** Focuses on chest muscle activation.\n",
            "\n",
            "**Intermediate (3-12 Months Experience)**\n",
            "\n",
            "*   **Frequency:** 2-3 times per week, with at least one day of rest between sessions.\n",
            "*   **Exercises:** Choose 4-5 exercises per workout.\n",
            "*   **Sets & Reps:** 3-4 sets of 8-12 reps per exercise.\n",
            "*   **Rest:** 60-75 seconds rest between sets.\n",
            "\n",
            "    **Sample Intermediate Chest Workout:**\n",
            "    *   **Barbell Bench Press:** A classic compound movement for overall chest strength.\n",
            "    *   **Incline Dumbbell Press:** Targets the upper chest.\n",
            "    *   **Decline Dumbbell Press:** Targets the lower chest.\n",
            "    *   **Cable Flyes:** Provides a consistent resistance for chest muscle activation.\n",
            "    *   **Dips (assisted if needed):** A good bodyweight exercise for the lower chest.\n",
            "\n",
            "**Advanced (12+ Months Experience)**\n",
            "\n",
            "*   **Frequency:** 2-4 times per week, with at least one day of rest between sessions.\n",
            "*   **Exercises:** Choose 5-6 exercises per workout.\n",
            "*   **Sets & Reps:** 3-4 sets of 6-12 reps per exercise, including some lower rep ranges for strength work.\n",
            "*   **Rest:** 60-75 seconds rest between sets.\n",
            "*   **Advanced Techniques:** Consider incorporating drop sets, supersets, or other intensity techniques.\n",
            "\n",
            "    **Sample Advanced Chest Workout:**\n",
            "    *   **Barbell Bench Press:** Focus on heavy compound lifts\n",
            "    *   **Incline Barbell Press:** Targets the upper chest.\n",
            "    *   **Decline Barbell Press:** Targets the lower chest.\n",
            "    *   **Incline Dumbbell Flyes:** Targets the upper chest.\n",
            "    *   **Cable Crossovers:** Excellent for chest muscle activation.\n",
            "    *   **Weighted Dips:** A great way to build chest and tricep strength\n",
            "\n",
            "**Sample Weekly Schedule:**\n",
            "\n",
            "Here's a sample way to incorporate chest into a weekly routine. Feel free to adjust this based on your other workouts:\n",
            "\n",
            "*   **Monday:** Chest & Triceps\n",
            "*   **Tuesday:** Back & Biceps\n",
            "*   **Wednesday:** Rest\n",
            "*   **Thursday:** Legs & Shoulders\n",
            "*   **Friday:** Chest (Light focus or accessory work)\n",
            "*   **Saturday:** Rest or active recovery (light cardio/stretching)\n",
            "*   **Sunday:** Rest\n",
            "\n",
            "**Important Tips:**\n",
            "\n",
            "*   **Mix It Up:** Vary your exercises regularly to challenge your muscles in different ways.\n",
            "*   **Focus on the Mind-Muscle Connection:** Concentrating on feeling the chest muscles working during each rep will improve results.\n",
            "*   **Don't Be Afraid to Experiment:** Try different exercises to find what works best for you.\n",
            "*   **Consider a Spotter:** For heavy exercises like the barbell bench press, a spotter is recommended, especially when you're pushing yourself.\n",
            "\n",
            "**Final Thoughts:**\n",
            "\n",
            "This is just a template. It's important to listen to your body, adjust based on your needs and fitness level, and stay consistent with your workouts. If you are unsure about something or feel pain, it's always best to consult a professional trainer or healthcare provider.  \n",
            "\n",
            "Good luck with your chest workouts! Let me know if you have any other questions.\n",
            "\n"
          ]
        }
      ],
      "source": [
        "!pip -q  install langchain-google-genai\n",
        "\n",
        "from langchain.prompts import PromptTemplate\n",
        "from langchain_google_genai import ChatGoogleGenerativeAI\n",
        "from langchain.chains import LLMChain\n",
        "from google.colab import userdata\n",
        "\n",
        "import os\n",
        "os.environ[\"GEMINI-KEY-NOMAN\"] = userdata.get(\"GEMINI-KEY-NOMAN\")\n",
        "\n",
        "llm = ChatGoogleGenerativeAI(\n",
        "    model=\"gemini-2.0-flash-exp\",\n",
        "    temperature=0.9,\n",
        "    api_key=os.environ[\"GEMINI-KEY-NOMAN\"])\n",
        "\n",
        "prompt_template = PromptTemplate(\n",
        "    input_variables=[\"question\"],\n",
        "    template=\"You are a helpful gym trainer. Answer the following question:\\n\\n{question}\"\n",
        ")\n",
        "\n",
        "chain = LLMChain(llm=llm, prompt=prompt_template)\n",
        "\n",
        "question = \"Tell me schedule about chest exercise?\"\n",
        "response = chain.run({\"question\": question})\n",
        "\n",
        "print(\"Answer:\", response)\n",
        ""
      ]
    },
    {
      "cell_type": "markdown",
      "source": [],
      "metadata": {
        "id": "1KYVWxvVsAd0"
      }
    }
  ]
}